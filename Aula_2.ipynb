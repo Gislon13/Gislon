{
 "cells": [
  {
   "cell_type": "markdown",
   "id": "cd27e550",
   "metadata": {},
   "source": [
    "### Aula 2 - Estruturas de Dados e Manipulações"
   ]
  },
  {
   "cell_type": "markdown",
   "id": "372ec8b2",
   "metadata": {},
   "source": [
    "### 1. Listas"
   ]
  },
  {
   "cell_type": "markdown",
   "id": "d26a522a",
   "metadata": {},
   "source": [
    "Como criar"
   ]
  },
  {
   "cell_type": "code",
   "execution_count": 40,
   "id": "53dda525",
   "metadata": {},
   "outputs": [],
   "source": [
    "lista = list(range(10))"
   ]
  },
  {
   "cell_type": "code",
   "execution_count": 41,
   "id": "3214ac6f",
   "metadata": {},
   "outputs": [],
   "source": [
    "lista = list(['IPM'])"
   ]
  },
  {
   "cell_type": "code",
   "execution_count": 42,
   "id": "44ce2bd2",
   "metadata": {},
   "outputs": [],
   "source": [
    "lista = []"
   ]
  },
  {
   "cell_type": "code",
   "execution_count": 43,
   "id": "22eb9911",
   "metadata": {},
   "outputs": [],
   "source": [
    "lista = ['tudo bem?','peixe',123,111]"
   ]
  },
  {
   "cell_type": "code",
   "execution_count": 44,
   "id": "7b156048",
   "metadata": {},
   "outputs": [
    {
     "name": "stdout",
     "output_type": "stream",
     "text": [
      "['tudo bem?']\n"
     ]
    }
   ],
   "source": [
    "print([lista[0]]) # -1 para último item por exemplo"
   ]
  },
  {
   "cell_type": "markdown",
   "id": "68e89b56",
   "metadata": {},
   "source": [
    "Sublistas"
   ]
  },
  {
   "cell_type": "code",
   "execution_count": 45,
   "id": "a4203658",
   "metadata": {},
   "outputs": [
    {
     "name": "stdout",
     "output_type": "stream",
     "text": [
      "['ana', ['tudo bem?', 'peixe', 123, 111]]\n"
     ]
    }
   ],
   "source": [
    "nova_lista = ['ana',lista]\n",
    "print(nova_lista)"
   ]
  },
  {
   "cell_type": "markdown",
   "id": "28cb3f3e",
   "metadata": {},
   "source": [
    "Analisar lista"
   ]
  },
  {
   "cell_type": "code",
   "execution_count": 46,
   "id": "5ecca5a6",
   "metadata": {},
   "outputs": [
    {
     "data": {
      "text/plain": [
       "2"
      ]
     },
     "execution_count": 46,
     "metadata": {},
     "output_type": "execute_result"
    }
   ],
   "source": [
    "len(nova_lista) # Comprimento"
   ]
  },
  {
   "cell_type": "code",
   "execution_count": 47,
   "id": "98ca9b7b",
   "metadata": {},
   "outputs": [
    {
     "data": {
      "text/plain": [
       "True"
      ]
     },
     "execution_count": 47,
     "metadata": {},
     "output_type": "execute_result"
    }
   ],
   "source": [
    "'peixe' in lista"
   ]
  },
  {
   "cell_type": "code",
   "execution_count": 48,
   "id": "e175db1d",
   "metadata": {},
   "outputs": [],
   "source": [
    "lista = [5, 2, 8, 48]"
   ]
  },
  {
   "cell_type": "code",
   "execution_count": 49,
   "id": "719e816c",
   "metadata": {},
   "outputs": [
    {
     "data": {
      "text/plain": [
       "2"
      ]
     },
     "execution_count": 49,
     "metadata": {},
     "output_type": "execute_result"
    }
   ],
   "source": [
    "min(lista)"
   ]
  },
  {
   "cell_type": "markdown",
   "id": "b5ca1183",
   "metadata": {},
   "source": [
    "Métodos"
   ]
  },
  {
   "cell_type": "code",
   "execution_count": 50,
   "id": "8cfa78e3",
   "metadata": {},
   "outputs": [],
   "source": [
    "lista = ['Ana', 1, 2]"
   ]
  },
  {
   "cell_type": "code",
   "execution_count": 51,
   "id": "a58afccb",
   "metadata": {},
   "outputs": [
    {
     "name": "stdout",
     "output_type": "stream",
     "text": [
      "['Ana', 1, 2, 'x']\n"
     ]
    }
   ],
   "source": [
    "lista.append('x')\n",
    "print(lista)"
   ]
  },
  {
   "cell_type": "code",
   "execution_count": 52,
   "id": "8085e918",
   "metadata": {},
   "outputs": [
    {
     "name": "stdout",
     "output_type": "stream",
     "text": [
      "['Ana', 1, 2, 'x', 2, 3, 5]\n"
     ]
    }
   ],
   "source": [
    "prime_numbers = [2, 3, 5]\n",
    "lista.extend(prime_numbers)\n",
    "print(lista)"
   ]
  },
  {
   "cell_type": "code",
   "execution_count": 53,
   "id": "ed5abb54",
   "metadata": {},
   "outputs": [
    {
     "name": "stdout",
     "output_type": "stream",
     "text": [
      "['Ana', 1, 'João', 2, 'x', 2, 3, 5]\n"
     ]
    }
   ],
   "source": [
    "lista.insert(2, 'João')\n",
    "print(lista)"
   ]
  },
  {
   "cell_type": "code",
   "execution_count": 54,
   "id": "bad18cde",
   "metadata": {},
   "outputs": [
    {
     "name": "stdout",
     "output_type": "stream",
     "text": [
      "['Ana', 1, 'João', 'x', 2, 3, 5]\n"
     ]
    }
   ],
   "source": [
    "lista.remove(2)\n",
    "print(lista)"
   ]
  },
  {
   "cell_type": "code",
   "execution_count": 55,
   "id": "5d6fa732",
   "metadata": {},
   "outputs": [
    {
     "ename": "NameError",
     "evalue": "name 'a' is not defined",
     "output_type": "error",
     "traceback": [
      "\u001b[0;31m---------------------------------------------------------------------------\u001b[0m",
      "\u001b[0;31mNameError\u001b[0m                                 Traceback (most recent call last)",
      "Cell \u001b[0;32mIn[55], line 1\u001b[0m\n\u001b[0;32m----> 1\u001b[0m \u001b[39mdel\u001b[39;00m a[\u001b[39m-\u001b[39m\u001b[39m1\u001b[39m] \u001b[39m#por index\u001b[39;00m\n",
      "\u001b[0;31mNameError\u001b[0m: name 'a' is not defined"
     ]
    }
   ],
   "source": [
    "del a[-1] #por index"
   ]
  },
  {
   "cell_type": "code",
   "execution_count": 56,
   "id": "eb5d7917",
   "metadata": {},
   "outputs": [
    {
     "name": "stdout",
     "output_type": "stream",
     "text": [
      "['Ana', 1, 'x', 2, 3, 5]\n"
     ]
    }
   ],
   "source": [
    "lista.remove('João')\n",
    "print(lista)"
   ]
  },
  {
   "cell_type": "code",
   "execution_count": 57,
   "id": "b4232df7",
   "metadata": {},
   "outputs": [
    {
     "name": "stdout",
     "output_type": "stream",
     "text": [
      "['Ana', 1, 2, 3, 5]\n"
     ]
    }
   ],
   "source": [
    "lista.pop(2) # Se nenhum índice é especificado, a.pop() remove e devolve o último item da lista\n",
    "print(lista)"
   ]
  },
  {
   "cell_type": "code",
   "execution_count": 58,
   "id": "63689fc7",
   "metadata": {},
   "outputs": [
    {
     "name": "stdout",
     "output_type": "stream",
     "text": [
      "[5, 3, 2, 1, 'Ana']\n"
     ]
    }
   ],
   "source": [
    "lista.reverse()\n",
    "print(lista)"
   ]
  },
  {
   "cell_type": "code",
   "execution_count": 59,
   "id": "bfb5eb14",
   "metadata": {},
   "outputs": [
    {
     "name": "stdout",
     "output_type": "stream",
     "text": [
      "[1, 2, 3, 5]\n"
     ]
    }
   ],
   "source": [
    "lista.pop(4)\n",
    "# False significa que a lista será ordenada em ordem ascendente\n",
    "# Key \n",
    "lista.sort(reverse=False)\n",
    "print(lista)"
   ]
  },
  {
   "cell_type": "code",
   "execution_count": 60,
   "id": "1209d6ba",
   "metadata": {},
   "outputs": [
    {
     "name": "stdout",
     "output_type": "stream",
     "text": [
      "['c', 'bb', 'aaa']\n"
     ]
    }
   ],
   "source": [
    "d = ['aaa', 'bb', 'c']\n",
    "d.sort(key=len)\n",
    "print(d)"
   ]
  },
  {
   "cell_type": "code",
   "execution_count": 61,
   "id": "f2b0ed82",
   "metadata": {},
   "outputs": [
    {
     "data": {
      "text/plain": [
       "1"
      ]
     },
     "execution_count": 61,
     "metadata": {},
     "output_type": "execute_result"
    }
   ],
   "source": [
    "lista.count(5)"
   ]
  },
  {
   "cell_type": "code",
   "execution_count": 62,
   "id": "b696b754",
   "metadata": {},
   "outputs": [
    {
     "name": "stdout",
     "output_type": "stream",
     "text": [
      "[]\n"
     ]
    }
   ],
   "source": [
    "d.clear()\n",
    "print(d)"
   ]
  },
  {
   "cell_type": "code",
   "execution_count": 63,
   "id": "a8ac9e33",
   "metadata": {},
   "outputs": [
    {
     "name": "stdout",
     "output_type": "stream",
     "text": [
      "[-1, 1, 5, 12]\n"
     ]
    }
   ],
   "source": [
    "a = [-1, 1, 6, 3.33, 5, 12]\n",
    "del a[2:4] # del a deleta tudo!\n",
    "print(a)"
   ]
  },
  {
   "cell_type": "markdown",
   "id": "b9eb8273",
   "metadata": {},
   "source": [
    "Listas como pilhas: append e pop"
   ]
  },
  {
   "cell_type": "code",
   "execution_count": 64,
   "id": "35daf1cd",
   "metadata": {},
   "outputs": [
    {
     "name": "stdout",
     "output_type": "stream",
     "text": [
      "[3, 4, 5, 6, 7]\n"
     ]
    }
   ],
   "source": [
    "stack = [3, 4, 5]\n",
    "stack.append(6)\n",
    "stack.append(7)\n",
    "print(stack)"
   ]
  },
  {
   "cell_type": "code",
   "execution_count": 65,
   "id": "f42af516",
   "metadata": {},
   "outputs": [
    {
     "data": {
      "text/plain": [
       "7"
      ]
     },
     "execution_count": 65,
     "metadata": {},
     "output_type": "execute_result"
    }
   ],
   "source": [
    "stack.pop()"
   ]
  },
  {
   "cell_type": "markdown",
   "id": "3a91e35a",
   "metadata": {},
   "source": [
    "Listas como filas: evitar, mais lento"
   ]
  },
  {
   "cell_type": "code",
   "execution_count": 66,
   "id": "22d26557",
   "metadata": {},
   "outputs": [
    {
     "data": {
      "text/plain": [
       "'João'"
      ]
     },
     "execution_count": 66,
     "metadata": {},
     "output_type": "execute_result"
    }
   ],
   "source": [
    "from collections import deque #permitir appends e pops eficientes nas duas extremidades\n",
    "queue = deque(['João', 'Maria', 'Ana'])\n",
    "queue.append('Marco')           \n",
    "queue.append('Carol')        \n",
    "queue.popleft()"
   ]
  },
  {
   "cell_type": "markdown",
   "id": "1b31debb",
   "metadata": {},
   "source": [
    "Listcomp (list comprehensions) "
   ]
  },
  {
   "cell_type": "code",
   "execution_count": 67,
   "id": "6bf602cc",
   "metadata": {},
   "outputs": [
    {
     "name": "stdout",
     "output_type": "stream",
     "text": [
      "[0, 1, 4, 9, 16, 25, 36, 49, 64, 81]\n"
     ]
    }
   ],
   "source": [
    "squares = []\n",
    "for x in range(10):\n",
    "    squares.append(x**2)\n",
    "print(squares)"
   ]
  },
  {
   "cell_type": "code",
   "execution_count": 68,
   "id": "29c2608b",
   "metadata": {},
   "outputs": [
    {
     "name": "stdout",
     "output_type": "stream",
     "text": [
      "[0, 1, 4, 9, 16, 25, 36, 49, 64, 81]\n"
     ]
    }
   ],
   "source": [
    "squares = list(map(lambda x: x**2, range(10)))\n",
    "print(squares)"
   ]
  },
  {
   "cell_type": "code",
   "execution_count": 69,
   "id": "fee6005b",
   "metadata": {},
   "outputs": [
    {
     "name": "stdout",
     "output_type": "stream",
     "text": [
      "[(1, 3), (1, 4), (2, 3), (2, 1), (2, 4), (3, 1), (3, 4)]\n"
     ]
    }
   ],
   "source": [
    "combs = []\n",
    "for x in [1,2,3]:\n",
    "    for y in [3,1,4]:\n",
    "        if x != y:\n",
    "            combs.append((x, y))\n",
    "\n",
    "print(combs)"
   ]
  },
  {
   "cell_type": "code",
   "execution_count": 70,
   "id": "d52742ab",
   "metadata": {},
   "outputs": [
    {
     "data": {
      "text/plain": [
       "['3.1', '3.14', '3.142', '3.1416', '3.14159']"
      ]
     },
     "execution_count": 70,
     "metadata": {},
     "output_type": "execute_result"
    }
   ],
   "source": [
    "from math import pi\n",
    "[str(round(pi, i)) for i in range(1, 6)]"
   ]
  },
  {
   "cell_type": "code",
   "execution_count": 71,
   "id": "0c02beee",
   "metadata": {},
   "outputs": [],
   "source": [
    "matrix = [\n",
    "[1, 2, 3, 4],\n",
    "[5, 6, 7, 8],\n",
    "[9, 10, 11, 12],\n",
    "]"
   ]
  },
  {
   "cell_type": "code",
   "execution_count": 72,
   "id": "5ec4c7ba",
   "metadata": {},
   "outputs": [
    {
     "name": "stdout",
     "output_type": "stream",
     "text": [
      "[[1, 5, 9], [2, 6, 10], [3, 7, 11], [4, 8, 12]]\n"
     ]
    }
   ],
   "source": [
    "transposed = []\n",
    "for i in range(4):\n",
    "    transposed.append([row[i] for row in matrix])\n",
    "print(transposed)"
   ]
  },
  {
   "cell_type": "code",
   "execution_count": 73,
   "id": "6d8d5634",
   "metadata": {},
   "outputs": [
    {
     "name": "stdout",
     "output_type": "stream",
     "text": [
      "[[1, 2, 3, 4], [5, 6, 7, 8], [9, 10, 11, 12]]\n"
     ]
    }
   ],
   "source": [
    "print([row for row in matrix])"
   ]
  },
  {
   "cell_type": "code",
   "execution_count": 74,
   "id": "85e80a5a",
   "metadata": {},
   "outputs": [
    {
     "data": {
      "text/plain": [
       "[(1, 5, 9), (2, 6, 10), (3, 7, 11), (4, 8, 12)]"
      ]
     },
     "execution_count": 74,
     "metadata": {},
     "output_type": "execute_result"
    }
   ],
   "source": [
    "# Dê preferência a funções embutidas!\n",
    "list(zip(*matrix)) # zip(*a) funciona como zip(a[0], a[1], a[2])"
   ]
  },
  {
   "cell_type": "code",
   "execution_count": 75,
   "id": "25e3b4f0",
   "metadata": {},
   "outputs": [
    {
     "name": "stdout",
     "output_type": "stream",
     "text": [
      "<zip object at 0x7f4e7c4865c0>\n"
     ]
    }
   ],
   "source": [
    "a = (\"João\", \"Charlie\", \"Marco\")\n",
    "b = (\"Joana\", \"Cris\", \"Monica\", \"Vitoria\")\n",
    "\n",
    "x = zip(a, b)\n",
    "print(x)"
   ]
  },
  {
   "cell_type": "code",
   "execution_count": 76,
   "id": "6ef6b803",
   "metadata": {},
   "outputs": [
    {
     "name": "stdout",
     "output_type": "stream",
     "text": [
      "(('João', 'Joana'), ('Charlie', 'Cris'), ('Marco', 'Monica'))\n"
     ]
    }
   ],
   "source": [
    "print(tuple(x))"
   ]
  },
  {
   "cell_type": "markdown",
   "id": "f04b51da",
   "metadata": {},
   "source": [
    "### 2. Tuples"
   ]
  },
  {
   "cell_type": "code",
   "execution_count": 77,
   "id": "b0e2ebee",
   "metadata": {},
   "outputs": [],
   "source": [
    "t = 12345, 54321, 'hello!'"
   ]
  },
  {
   "cell_type": "code",
   "execution_count": 78,
   "id": "e5443b72",
   "metadata": {},
   "outputs": [
    {
     "name": "stdout",
     "output_type": "stream",
     "text": [
      "((12345, 54321, 'hello!'), (1, 2, 3, 4, 5))\n"
     ]
    }
   ],
   "source": [
    "u = t, (1, 2, 3, 4, 5)\n",
    "print(u)"
   ]
  },
  {
   "cell_type": "code",
   "execution_count": 79,
   "id": "cef64a9d",
   "metadata": {},
   "outputs": [
    {
     "ename": "TypeError",
     "evalue": "'tuple' object does not support item assignment",
     "output_type": "error",
     "traceback": [
      "\u001b[0;31m---------------------------------------------------------------------------\u001b[0m",
      "\u001b[0;31mTypeError\u001b[0m                                 Traceback (most recent call last)",
      "Cell \u001b[0;32mIn[79], line 1\u001b[0m\n\u001b[0;32m----> 1\u001b[0m t[\u001b[39m0\u001b[39;49m] \u001b[39m=\u001b[39m \u001b[39m88888\u001b[39m \u001b[39m# imutável!\u001b[39;00m\n",
      "\u001b[0;31mTypeError\u001b[0m: 'tuple' object does not support item assignment"
     ]
    }
   ],
   "source": [
    "t[0] = 88888 # imutável!"
   ]
  },
  {
   "cell_type": "code",
   "execution_count": 81,
   "id": "f2e6b215",
   "metadata": {},
   "outputs": [],
   "source": [
    "vazia = ()\n",
    "única = 'hello', # uma tupla unitária é construída por um único valor e uma vírgula"
   ]
  },
  {
   "cell_type": "code",
   "execution_count": 82,
   "id": "552184ef",
   "metadata": {},
   "outputs": [
    {
     "name": "stdout",
     "output_type": "stream",
     "text": [
      "(12345, 54321, 'hello!')\n",
      "12345\n",
      "54321\n"
     ]
    }
   ],
   "source": [
    "# tuple pode ser \"desempacotada\"\n",
    "x, y, z = t\n",
    "print(t)\n",
    "print(x)\n",
    "print(y)"
   ]
  },
  {
   "cell_type": "markdown",
   "id": "dde5ff85",
   "metadata": {},
   "source": [
    "### 3. Sets"
   ]
  },
  {
   "cell_type": "code",
   "execution_count": null,
   "id": "0d242506",
   "metadata": {},
   "outputs": [],
   "source": [
    "turma = {'Ana', 'Carol', 'Lucas', 'Lucas'}\n",
    "print(turma)         "
   ]
  },
  {
   "cell_type": "code",
   "execution_count": null,
   "id": "46e643ae",
   "metadata": {},
   "outputs": [],
   "source": [
    "turma = {'Ana', 'Carol', 'Lucas', 'Lucas', 'Gui', 'Gui'}\n",
    "print(turma) "
   ]
  },
  {
   "cell_type": "code",
   "execution_count": null,
   "id": "7706eb61",
   "metadata": {},
   "outputs": [],
   "source": [
    "'Ana' in turma "
   ]
  },
  {
   "cell_type": "code",
   "execution_count": null,
   "id": "10405f2e",
   "metadata": {},
   "outputs": [],
   "source": [
    "a = set('abracadabra')\n",
    "print(a)"
   ]
  },
  {
   "cell_type": "code",
   "execution_count": null,
   "id": "8f51d247",
   "metadata": {},
   "outputs": [],
   "source": [
    "b = set('ana')\n",
    "print(b)"
   ]
  },
  {
   "cell_type": "code",
   "execution_count": null,
   "id": "bef33b16",
   "metadata": {},
   "outputs": [],
   "source": [
    "a - b"
   ]
  },
  {
   "cell_type": "code",
   "execution_count": null,
   "id": "69d00754",
   "metadata": {},
   "outputs": [],
   "source": [
    "a | b # a, b ou ambos"
   ]
  },
  {
   "cell_type": "code",
   "execution_count": null,
   "id": "3934b770",
   "metadata": {},
   "outputs": [],
   "source": [
    "a & b # ambos"
   ]
  },
  {
   "cell_type": "code",
   "execution_count": null,
   "id": "bfb9713e",
   "metadata": {},
   "outputs": [],
   "source": [
    "a ^ b # algum mas não ambos"
   ]
  },
  {
   "cell_type": "markdown",
   "id": "c046c1d2",
   "metadata": {},
   "source": [
    "### 4. Dicionários"
   ]
  },
  {
   "cell_type": "code",
   "execution_count": null,
   "id": "5b3669f4",
   "metadata": {},
   "outputs": [],
   "source": [
    "alunos = {1:'Ana', 2:'João', 3:'Marco'}\n",
    "print(alunos)"
   ]
  },
  {
   "cell_type": "code",
   "execution_count": null,
   "id": "6d9ed217",
   "metadata": {},
   "outputs": [],
   "source": [
    "alunos[4] = 'Guido'\n",
    "print(alunos)"
   ]
  },
  {
   "cell_type": "code",
   "execution_count": null,
   "id": "ba2dd753",
   "metadata": {},
   "outputs": [],
   "source": [
    "alunos[2]"
   ]
  },
  {
   "cell_type": "code",
   "execution_count": null,
   "id": "14fa53a0",
   "metadata": {},
   "outputs": [],
   "source": [
    "sorted(alunos)"
   ]
  },
  {
   "cell_type": "code",
   "execution_count": null,
   "id": "4d30f0f6",
   "metadata": {},
   "outputs": [],
   "source": [
    "'Jack' not in alunos"
   ]
  },
  {
   "cell_type": "code",
   "execution_count": null,
   "id": "13bf5f9c",
   "metadata": {},
   "outputs": [],
   "source": [
    "dict([('Ana', 4139), ('Guido', 4127), ('Jack', 4098)])"
   ]
  },
  {
   "cell_type": "code",
   "execution_count": null,
   "id": "486c722d",
   "metadata": {},
   "outputs": [],
   "source": [
    "knights = {'gallahad': 'the pure', 'robin': 'the brave'}\n",
    "for k, v in knights.items():\n",
    "    print(k, v)"
   ]
  },
  {
   "cell_type": "code",
   "execution_count": null,
   "id": "8a337ff5",
   "metadata": {},
   "outputs": [],
   "source": [
    "perguntas = ['nome', 'objetivo', 'cor preferida']\n",
    "respostas = ['Mario', 'resgatar a princesa', 'azul']\n",
    "for q, a in zip(perguntas, respostas):\n",
    "    print('Qual o seu {0}? É {1}.'.format(q, a))"
   ]
  },
  {
   "cell_type": "code",
   "execution_count": null,
   "id": "725cdbbf",
   "metadata": {},
   "outputs": [],
   "source": [
    "for i in reversed(range(1, 10, 2)):\n",
    "    print(i)"
   ]
  },
  {
   "cell_type": "code",
   "execution_count": null,
   "id": "85ef1afd",
   "metadata": {},
   "outputs": [],
   "source": [
    "basket = ['apple', 'orange', 'apple', 'pear', 'orange', 'banana']\n",
    "for f in sorted(set(basket)):\n",
    "    print(f)"
   ]
  },
  {
   "cell_type": "markdown",
   "id": "b6a70bd0",
   "metadata": {},
   "source": [
    "#### Comparando sequências"
   ]
  },
  {
   "cell_type": "code",
   "execution_count": null,
   "id": "21561931",
   "metadata": {},
   "outputs": [],
   "source": [
    "# Objetos sequência podem ser comparados com outros objetos sequência, desde que o tipo das sequências seja o mesmo\n",
    "'ABC' < 'C' < 'Pascal' < 'Python'"
   ]
  },
  {
   "cell_type": "code",
   "execution_count": null,
   "id": "fc372256",
   "metadata": {},
   "outputs": [],
   "source": [
    "[1, 2, 3] < (1, 2, 4)"
   ]
  },
  {
   "cell_type": "code",
   "execution_count": null,
   "id": "617a60ca",
   "metadata": {},
   "outputs": [],
   "source": [
    "(1, 2, ('aa', 'ab'))  < (1, 2, ('abc', 'a'), 4)"
   ]
  },
  {
   "cell_type": "code",
   "execution_count": null,
   "id": "e4ab915d",
   "metadata": {},
   "outputs": [],
   "source": [
    "(1, 2) < (1, 2, -1)"
   ]
  },
  {
   "cell_type": "code",
   "execution_count": null,
   "id": "4fc2db73",
   "metadata": {},
   "outputs": [],
   "source": [
    "(1, 2, 3) < (1, 2, 3)"
   ]
  },
  {
   "cell_type": "markdown",
   "id": "6ff93b76",
   "metadata": {},
   "source": [
    "### 5. Datetime"
   ]
  },
  {
   "cell_type": "code",
   "execution_count": null,
   "id": "be9810e0",
   "metadata": {},
   "outputs": [],
   "source": [
    "import datetime\n",
    "x = datetime.datetime.now()\n",
    "print(x)"
   ]
  },
  {
   "cell_type": "code",
   "execution_count": null,
   "id": "5d01bc65",
   "metadata": {},
   "outputs": [],
   "source": [
    "import datetime\n",
    "\n",
    "x = datetime.datetime.now()\n",
    "\n",
    "print(x.year)\n",
    "print(x.strftime(\"%A\")) # %b para mês abreviado, %Y para ano"
   ]
  },
  {
   "cell_type": "code",
   "execution_count": null,
   "id": "7fc9ff92",
   "metadata": {},
   "outputs": [],
   "source": [
    "x = datetime.datetime(2020, 5, 17)\n",
    "print(x)"
   ]
  },
  {
   "cell_type": "code",
   "execution_count": null,
   "id": "f99d0917",
   "metadata": {},
   "outputs": [],
   "source": [
    "from datetime import datetime, timedelta\n",
    " \n",
    "# Hora atual\n",
    "agora = datetime.now()\n",
    "\n",
    "print (\"Agora\", str(agora))\n",
    " \n",
    "# Datas futuras\n",
    "agora_mais_dois_anos = agora + \\\n",
    "                        timedelta(days = 730)\n",
    " \n",
    "agora_mais_dois_dias = agora + \\\n",
    "                         timedelta(days = 2)\n",
    " \n",
    "# printing calculated future_dates\n",
    "print('agora_mais_dois_anos:', str(agora_mais_dois_anos))\n",
    "print('agora_mais_dois_dias:', str(agora_mais_dois_dias))"
   ]
  },
  {
   "cell_type": "markdown",
   "id": "64bd961e",
   "metadata": {},
   "source": [
    "#### Vários argumentos!\n",
    "class datetime.timedelta(days=0, seconds=0, microseconds=0, milliseconds=0, minutes=0, hours=0, weeks=0)"
   ]
  },
  {
   "cell_type": "code",
   "execution_count": null,
   "id": "d23491a9",
   "metadata": {},
   "outputs": [],
   "source": [
    "from datetime import date\n",
    "d = date(2002, 12, 31)\n",
    "d = d.replace(day=26)\n",
    "print(d)"
   ]
  },
  {
   "cell_type": "code",
   "execution_count": null,
   "id": "f4b7b7ed",
   "metadata": {},
   "outputs": [],
   "source": [
    "date(2002, 12, 4).isoformat()"
   ]
  },
  {
   "cell_type": "markdown",
   "id": "445a2976",
   "metadata": {},
   "source": [
    "### 6. Lista Encadeada"
   ]
  },
  {
   "cell_type": "code",
   "execution_count": null,
   "id": "a711df05",
   "metadata": {},
   "outputs": [],
   "source": [
    "class NodoLista:\n",
    "    \"\"\"Esta classe representa um nodo de uma lista encadeada.\"\"\"\n",
    "    def __init__(self, dado=0, proximo_nodo=None):\n",
    "        self.dado = dado\n",
    "        self.proximo = proximo_nodo\n",
    "\n",
    "    def __repr__(self):\n",
    "        return '%s -> %s' % (self.dado, self.proximo)"
   ]
  },
  {
   "cell_type": "code",
   "execution_count": null,
   "id": "ae7fe855",
   "metadata": {},
   "outputs": [],
   "source": [
    "# classe para armazenar um ponteiro para a cabeça da lista\n",
    "class ListaEncadeada:\n",
    "    \"\"\"Esta classe representa uma lista encadeada.\"\"\"\n",
    "    def __init__(self):\n",
    "        self.cabeca = None\n",
    "\n",
    "    def __repr__(self):\n",
    "        return \"[\" + str(self.cabeca) + \"]\""
   ]
  },
  {
   "cell_type": "code",
   "execution_count": null,
   "id": "1127ad4d",
   "metadata": {},
   "outputs": [],
   "source": [
    "def insere_no_inicio(lista, novo_dado):\n",
    "    # 1) Cria um novo nodo com o dado a ser armazenado.\n",
    "    novo_nodo = NodoLista(novo_dado)\n",
    "\n",
    "    # 2) Faz com que o novo nodo seja a cabeça da lista.\n",
    "    novo_nodo.proximo = lista.cabeca\n",
    "\n",
    "    # 3) Faz com que a cabeça da lista referencie o novo nodo.\n",
    "    lista.cabeca = novo_nodo"
   ]
  },
  {
   "cell_type": "code",
   "execution_count": null,
   "id": "2dda5106",
   "metadata": {},
   "outputs": [],
   "source": [
    "lista = ListaEncadeada()\n",
    "print(\"Lista vazia:\", lista)\n",
    "\n",
    "insere_no_inicio(lista, 5)\n",
    "print(\"Lista contém um único elemento:\", lista)\n",
    "\n",
    "insere_no_inicio(lista, 10)\n",
    "print(\"Inserindo um novo elemento:\", lista)"
   ]
  },
  {
   "cell_type": "code",
   "execution_count": null,
   "id": "714e5d1b",
   "metadata": {},
   "outputs": [],
   "source": [
    "def insere_depois(lista, nodo_anterior, novo_dado):\n",
    "    assert nodo_anterior, \"Nodo anterior precisa existir na lista.\"\n",
    "\n",
    "    # Cria um novo nodo com o dado desejado.\n",
    "    novo_nodo = NodoLista(novo_dado)\n",
    "\n",
    "    # Faz o próximo do novo nodo ser o próximo do nodo anterior.\n",
    "    novo_nodo.proximo = nodo_anterior.proximo\n",
    "\n",
    "    # Faz com que o novo nodo seja o próximo do nodo anterior.\n",
    "    nodo_anterior.proximo = novo_nodo"
   ]
  },
  {
   "cell_type": "code",
   "execution_count": null,
   "id": "81144603",
   "metadata": {},
   "outputs": [],
   "source": [
    "def busca(lista, valor):\n",
    "    corrente = lista.cabeca # início da lista\n",
    "    while corrente and corrente.dado != valor:\n",
    "        corrente = corrente.proximo\n",
    "    return corrente"
   ]
  },
  {
   "cell_type": "code",
   "execution_count": null,
   "id": "70237f18",
   "metadata": {},
   "outputs": [],
   "source": [
    "def remove(self, valor):\n",
    "    assert self.cabeca, \"Impossível remover valor de lista vazia.\"\n",
    "\n",
    "    # Nodo a ser removido é a cabeça da lista.\n",
    "    if self.cabeca.dado == valor:\n",
    "        self.cabeca = self.cabeca.proximo\n",
    "    else:\n",
    "        # Encontra a posição do elemento a ser removido.\n",
    "        anterior = None\n",
    "        corrente = self.cabeca\n",
    "        while corrente and corrente.dado != valor:\n",
    "            anterior = corrente\n",
    "            corrente = corrente.proximo\n",
    "        # O nodo corrente é o nodo a ser removido.\n",
    "        if corrente:\n",
    "            anterior.proximo = corrente.proximo\n",
    "        else:\n",
    "            # O nodo corrente é a cauda da lista.\n",
    "            anterior.proximo = None"
   ]
  },
  {
   "cell_type": "code",
   "execution_count": null,
   "id": "cd54d300",
   "metadata": {},
   "outputs": [],
   "source": [
    "import pandas as pd\n",
    "import numpy as np\n",
    "linha_1 = np.array(['Luiz', 80, False])\n",
    "linha_2 = np.array(['João', 70, True])\n",
    "linha_3 = np.array(['Lorenzo', 85, False])\n",
    "data = pd.DataFrame(data = [linha_1, linha_2, linha_3], columns = ['Nome', 'Peso', 'Doente'])\n",
    "print(data)"
   ]
  },
  {
   "cell_type": "code",
   "execution_count": null,
   "id": "44bc8e53",
   "metadata": {},
   "outputs": [],
   "source": [
    "# Dica exercícios\n",
    "lista = []\n",
    "lista.append(input('Qual seu nome?'))"
   ]
  },
  {
   "cell_type": "code",
   "execution_count": null,
   "id": "4f37ed26",
   "metadata": {},
   "outputs": [],
   "source": [
    "print(lista)"
   ]
  },
  {
   "cell_type": "markdown",
   "id": "97fe26dd",
   "metadata": {},
   "source": [
    "### 7. Estruturas condicionais"
   ]
  },
  {
   "cell_type": "code",
   "execution_count": null,
   "id": "bc325743",
   "metadata": {},
   "outputs": [],
   "source": [
    "linguagem = \"Python\"\n",
    "\n",
    "if linguagem == \"C++\":\n",
    "    print('C++ é uma linguagem de programação compilada.')\n",
    "elif linguagem == \"Python\":\n",
    "    print(\"Python é uma linguagem de programação de alto nível\")\n",
    "elif linguagem == \"Java\":\n",
    "    print(\"Java é uma linguagem de programação amplamante utilizada no mercado\")\n",
    "else:\n",
    "    print('Não é nenhuma das duas opções')"
   ]
  },
  {
   "cell_type": "markdown",
   "id": "fde1d0ae",
   "metadata": {},
   "source": [
    "#### Diferenças entre pass, continue e break"
   ]
  },
  {
   "cell_type": "markdown",
   "id": "8772efb5",
   "metadata": {},
   "source": [
    "* continue: ignorar as instruções restantes na iteração atual do loop ir para o início do loop.\n",
    "* break: trazer o controle para fora do loop mais interno."
   ]
  },
  {
   "cell_type": "code",
   "execution_count": null,
   "id": "cd528d6d",
   "metadata": {},
   "outputs": [],
   "source": [
    "print('Utilizando pass')\n",
    "for i in range(0,10):\n",
    "    if(i%2 == 0):\n",
    "        pass\n",
    "        print(i, \" is even\")\n",
    "    else:\n",
    "        print(i, \" is odd\")\n",
    "\n",
    "print('Utilizando continue')\n",
    "for i in range(0,10):\n",
    "    if(i%2 == 0):\n",
    "        continue\n",
    "        print(i, \" is even\")\n",
    "    else:\n",
    "        print(i, \" is odd\")"
   ]
  },
  {
   "cell_type": "code",
   "execution_count": null,
   "id": "9cbc96d7",
   "metadata": {},
   "outputs": [],
   "source": [
    "# mas então pra que utilizar o pass?\n",
    "def soma_de_quadrados(x, y):\n",
    "    pass # k = x**x + y**y\n",
    "    # return k"
   ]
  },
  {
   "cell_type": "code",
   "execution_count": null,
   "id": "2193e6ff",
   "metadata": {},
   "outputs": [],
   "source": [
    "print('Utilizando pass')\n",
    "s=\"Welcome to the world of python\"\n",
    "for i in s:\n",
    "    if(i == 'p'):\n",
    "        pass\n",
    "        print (\"\\nFound character p\")\n",
    "    else:\n",
    "        print(i, end=\" \")\n",
    "\n",
    "print('\\nUtilizando break')\n",
    "for i in s:\n",
    "    if(i == 'p'):\n",
    "        break\n",
    "        print(\"Found character p\")\n",
    "    else:\n",
    "        print(i, end=\" \")\n",
    "print(i, end=\" \")"
   ]
  },
  {
   "cell_type": "code",
   "execution_count": null,
   "id": "b4b17183",
   "metadata": {},
   "outputs": [],
   "source": [
    "print('Utilizando continue')\n",
    "s=\"Welcome to the world of python\"\n",
    "for i in s:\n",
    "    if(i == 'p'):\n",
    "        continue\n",
    "        print (\"\\nFound character p\")\n",
    "    else:\n",
    "        print(i, end=\" \")\n",
    "\n",
    "print('\\nUtilizando break')\n",
    "for i in s:\n",
    "    if(i == 'p'):\n",
    "        break \n",
    "        print(\"Found character p\")\n",
    "    else:\n",
    "        print(i, end=\" \")"
   ]
  },
  {
   "cell_type": "markdown",
   "id": "3be87c9b",
   "metadata": {},
   "source": [
    "## Exercícios - respostas possíveis"
   ]
  },
  {
   "cell_type": "code",
   "execution_count": null,
   "id": "96d3103f",
   "metadata": {},
   "outputs": [],
   "source": [
    "def remove_repetidos(lista):\n",
    "    l = []\n",
    "    for i in lista:\n",
    "        if i not in l:\n",
    "            l.append(i)\n",
    "    l.sort()\n",
    "    return l\n",
    "\n",
    "lista = [1, 1, 2, 1, 3, 4, 3, 6, 7, 6, 7, 8, 10 ,9]\n",
    "\n",
    "lista = remove_repetidos(lista)\n",
    "print (lista)"
   ]
  },
  {
   "cell_type": "code",
   "execution_count": null,
   "id": "80bed82f",
   "metadata": {},
   "outputs": [],
   "source": [
    "positivos = 0\n",
    "resposta = input(\"Telefonou para a vítima? (S ou N): \")\n",
    "if resposta.upper() == \"S\":\n",
    "    positivos += 1\n",
    "resposta = input(\"Esteve no local do crime? (S ou N): \")\n",
    "if resposta.upper() == \"S\":\n",
    "    positivos += 1\n",
    "resposta = input(\"Mora perto da vítima? (S ou N): \")\n",
    "if resposta.upper() == \"S\":\n",
    "    positivos += 1\n",
    "resposta = input(\"Devia para a vítima? (S ou N): \")\n",
    "if resposta.upper() == \"S\":\n",
    "    positivos += 1\n",
    "resposta = input(\"Já trabalhou com a vítima? (S ou N): \")\n",
    "if resposta.upper() == \"S\":\n",
    "    positivos += 1\n",
    "\n",
    "if positivos < 2:\n",
    "    print(\"Inocente\")\n",
    "elif positivos == 2:\n",
    "    print(\"Suspeita\")\n",
    "elif positivos < 5:\n",
    "    print(\"Cúmplice\")\n",
    "else:\n",
    "    print(\"Assassino\")"
   ]
  },
  {
   "cell_type": "code",
   "execution_count": null,
   "id": "4a529671",
   "metadata": {},
   "outputs": [],
   "source": [
    "n = int(input('Digite a dimensão n da matriz: ')) \n",
    "m = int(input('Digite a dimensão m da matriz: ')) \n",
    "matriz = []\n",
    "for i in range(n):\n",
    "    linha = []\n",
    "    for j in range(m):\n",
    "        linha.append(0)\n",
    "    matriz.append(linha)\n",
    "print(matriz)"
   ]
  },
  {
   "cell_type": "code",
   "execution_count": null,
   "id": "816f7bdc",
   "metadata": {},
   "outputs": [],
   "source": [
    "(1, 2, ('aa', 'ab'))  > (1, 2, ('aa', 'a'), 4)"
   ]
  },
  {
   "cell_type": "code",
   "execution_count": null,
   "id": "1d11e437",
   "metadata": {},
   "outputs": [],
   "source": [
    "lista = 12, 54, 'oi!'\n",
    "lista[0] = 2"
   ]
  },
  {
   "cell_type": "code",
   "execution_count": null,
   "id": "8fb70010",
   "metadata": {},
   "outputs": [],
   "source": [
    "import datetime\n",
    "from datetime import date\n",
    "\n",
    "def calculate_age(born):\n",
    "    today = date.today()\n",
    "    return today.year - born.year - ((today.month, today.day) < (born.month, born.day))\n",
    "\n",
    "def days_until_birthday(birthday):\n",
    "    \"\"\"How long until my next birthday?\"\"\"\n",
    "    today = datetime.datetime.today()\n",
    "    # when is my birthday this year?\n",
    "    next_birthday = datetime.datetime(today.year, birthday.month, birthday.day)\n",
    "\n",
    "    # if it has gone by, when will it be next year\n",
    "    if today > next_birthday:\n",
    "        next_birthday = datetime.datetime(today.year+1, birthday.month, birthday.day)\n",
    "\n",
    "    # subtraction on datetime objects returns a timedelta object\n",
    "    delta = next_birthday - today\n",
    "    return delta.days\n",
    "\n",
    "#birthday = datetime.datetime.now()\n",
    "birthday = datetime.datetime(2001,5,1)\n",
    "print('Idade:', end=' ')\n",
    "print(calculate_age(birthday))\n",
    "print('Dias até próximo niver:', end=' ')\n",
    "print(days_until_birthday(birthday))"
   ]
  },
  {
   "cell_type": "code",
   "execution_count": null,
   "id": "d19af426",
   "metadata": {},
   "outputs": [],
   "source": []
  }
 ],
 "metadata": {
  "kernelspec": {
   "display_name": "Python 3 (ipykernel)",
   "language": "python",
   "name": "python3"
  },
  "language_info": {
   "codemirror_mode": {
    "name": "ipython",
    "version": 3
   },
   "file_extension": ".py",
   "mimetype": "text/x-python",
   "name": "python",
   "nbconvert_exporter": "python",
   "pygments_lexer": "ipython3",
   "version": "3.8.16"
  }
 },
 "nbformat": 4,
 "nbformat_minor": 5
}
